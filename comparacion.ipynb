{
 "cells": [
  {
   "cell_type": "code",
   "execution_count": 1,
   "metadata": {},
   "outputs": [],
   "source": [
    "import pandas as pd\n",
    "import re\n",
    "from fuzzywuzzy import fuzz"
   ]
  },
  {
   "cell_type": "markdown",
   "metadata": {},
   "source": [
    "Cargamos los archivos "
   ]
  },
  {
   "cell_type": "code",
   "execution_count": 10,
   "metadata": {},
   "outputs": [],
   "source": [
    "clientes_agenda = pd.read_excel(\"clientes_agenda.xlsx\")\n",
    "clientes_netsuite = pd.read_csv(\"clientes_netsuite.csv\")"
   ]
  },
  {
   "cell_type": "markdown",
   "metadata": {},
   "source": [
    "Vamos a revisar la estructura de datos"
   ]
  },
  {
   "cell_type": "code",
   "execution_count": 11,
   "metadata": {},
   "outputs": [
    {
     "data": {
      "text/html": [
       "<div>\n",
       "<style scoped>\n",
       "    .dataframe tbody tr th:only-of-type {\n",
       "        vertical-align: middle;\n",
       "    }\n",
       "\n",
       "    .dataframe tbody tr th {\n",
       "        vertical-align: top;\n",
       "    }\n",
       "\n",
       "    .dataframe thead th {\n",
       "        text-align: right;\n",
       "    }\n",
       "</style>\n",
       "<table border=\"1\" class=\"dataframe\">\n",
       "  <thead>\n",
       "    <tr style=\"text-align: right;\">\n",
       "      <th></th>\n",
       "      <th>Email</th>\n",
       "      <th>Nombres</th>\n",
       "      <th>Apellidos</th>\n",
       "      <th>Número de cliente</th>\n",
       "    </tr>\n",
       "  </thead>\n",
       "  <tbody>\n",
       "    <tr>\n",
       "      <th>0</th>\n",
       "      <td>NaN</td>\n",
       "      <td>Paula Ximena</td>\n",
       "      <td>.</td>\n",
       "      <td>196914</td>\n",
       "    </tr>\n",
       "    <tr>\n",
       "      <th>1</th>\n",
       "      <td>NaN</td>\n",
       "      <td>CRISTOPHER</td>\n",
       "      <td>.</td>\n",
       "      <td>201055</td>\n",
       "    </tr>\n",
       "    <tr>\n",
       "      <th>2</th>\n",
       "      <td>NaN</td>\n",
       "      <td>ULISES</td>\n",
       "      <td>.</td>\n",
       "      <td>208218</td>\n",
       "    </tr>\n",
       "    <tr>\n",
       "      <th>3</th>\n",
       "      <td>NaN</td>\n",
       "      <td>𝐑𝐨𝐬𝐚 𝐢𝐬𝐞𝐥𝐚</td>\n",
       "      <td>𝐡𝐞𝐫𝐧𝐚𝐧𝐝𝐞𝐳 𝐜𝐚𝐥𝐝𝐞𝐫𝐨𝐧</td>\n",
       "      <td>218218</td>\n",
       "    </tr>\n",
       "    <tr>\n",
       "      <th>4</th>\n",
       "      <td>NaN</td>\n",
       "      <td>Rosa Maríaz</td>\n",
       "      <td>2 López Martíne</td>\n",
       "      <td>228363</td>\n",
       "    </tr>\n",
       "  </tbody>\n",
       "</table>\n",
       "</div>"
      ],
      "text/plain": [
       "  Email        Nombres           Apellidos Número de cliente\n",
       "0   NaN  Paula Ximena                    .            196914\n",
       "1   NaN    CRISTOPHER                    .            201055\n",
       "2   NaN         ULISES                  .             208218\n",
       "3   NaN    𝐑𝐨𝐬𝐚 𝐢𝐬𝐞𝐥𝐚   𝐡𝐞𝐫𝐧𝐚𝐧𝐝𝐞𝐳 𝐜𝐚𝐥𝐝𝐞𝐫𝐨𝐧            218218\n",
       "4   NaN    Rosa Maríaz     2 López Martíne            228363"
      ]
     },
     "metadata": {},
     "output_type": "display_data"
    },
    {
     "data": {
      "text/html": [
       "<div>\n",
       "<style scoped>\n",
       "    .dataframe tbody tr th:only-of-type {\n",
       "        vertical-align: middle;\n",
       "    }\n",
       "\n",
       "    .dataframe tbody tr th {\n",
       "        vertical-align: top;\n",
       "    }\n",
       "\n",
       "    .dataframe thead th {\n",
       "        text-align: right;\n",
       "    }\n",
       "</style>\n",
       "<table border=\"1\" class=\"dataframe\">\n",
       "  <thead>\n",
       "    <tr style=\"text-align: right;\">\n",
       "      <th></th>\n",
       "      <th>Internal ID</th>\n",
       "      <th>Expediente</th>\n",
       "      <th>Nombre</th>\n",
       "      <th>Fecha de Nacimiento</th>\n",
       "      <th>E-Mail</th>\n",
       "      <th>Teléfono</th>\n",
       "    </tr>\n",
       "  </thead>\n",
       "  <tbody>\n",
       "    <tr>\n",
       "      <th>0</th>\n",
       "      <td>435106</td>\n",
       "      <td>1.0</td>\n",
       "      <td>MATTEO MAYO  DE JESUS</td>\n",
       "      <td>01/01/1997</td>\n",
       "      <td>NaN</td>\n",
       "      <td>4422290976</td>\n",
       "    </tr>\n",
       "    <tr>\n",
       "      <th>1</th>\n",
       "      <td>601201</td>\n",
       "      <td>2.0</td>\n",
       "      <td>refractivaa refractiva refractiva</td>\n",
       "      <td>02/03/1983</td>\n",
       "      <td>NaN</td>\n",
       "      <td>0</td>\n",
       "    </tr>\n",
       "    <tr>\n",
       "      <th>2</th>\n",
       "      <td>86735</td>\n",
       "      <td>8.0</td>\n",
       "      <td>JAVIER CRUZ RAMIREZ</td>\n",
       "      <td>12/11/1965</td>\n",
       "      <td>juan.nogmar@gmail.com</td>\n",
       "      <td>NaN</td>\n",
       "    </tr>\n",
       "    <tr>\n",
       "      <th>3</th>\n",
       "      <td>51460</td>\n",
       "      <td>9.0</td>\n",
       "      <td>GABINO MORENO LOPEZ</td>\n",
       "      <td>02/07/1956</td>\n",
       "      <td>NaN</td>\n",
       "      <td>NaN</td>\n",
       "    </tr>\n",
       "    <tr>\n",
       "      <th>4</th>\n",
       "      <td>7579</td>\n",
       "      <td>10.0</td>\n",
       "      <td>J. CARMEN MENDOZA MORENO</td>\n",
       "      <td>12/19/1945</td>\n",
       "      <td>NaN</td>\n",
       "      <td>NaN</td>\n",
       "    </tr>\n",
       "  </tbody>\n",
       "</table>\n",
       "</div>"
      ],
      "text/plain": [
       "   Internal ID  Expediente                             Nombre  \\\n",
       "0       435106         1.0              MATTEO MAYO  DE JESUS   \n",
       "1       601201         2.0  refractivaa refractiva refractiva   \n",
       "2        86735         8.0                JAVIER CRUZ RAMIREZ   \n",
       "3        51460         9.0                GABINO MORENO LOPEZ   \n",
       "4         7579        10.0           J. CARMEN MENDOZA MORENO   \n",
       "\n",
       "  Fecha de Nacimiento                 E-Mail    Teléfono  \n",
       "0          01/01/1997                    NaN  4422290976  \n",
       "1          02/03/1983                    NaN           0  \n",
       "2          12/11/1965  juan.nogmar@gmail.com         NaN  \n",
       "3          02/07/1956                    NaN         NaN  \n",
       "4          12/19/1945                    NaN         NaN  "
      ]
     },
     "metadata": {},
     "output_type": "display_data"
    }
   ],
   "source": [
    "display(clientes_agenda.head())\n",
    "display(clientes_netsuite.head())"
   ]
  }
 ],
 "metadata": {
  "kernelspec": {
   "display_name": "env",
   "language": "python",
   "name": "python3"
  },
  "language_info": {
   "codemirror_mode": {
    "name": "ipython",
    "version": 3
   },
   "file_extension": ".py",
   "mimetype": "text/x-python",
   "name": "python",
   "nbconvert_exporter": "python",
   "pygments_lexer": "ipython3",
   "version": "3.12.4"
  }
 },
 "nbformat": 4,
 "nbformat_minor": 2
}
